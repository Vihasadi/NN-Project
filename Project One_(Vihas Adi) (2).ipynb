{
 "cells": [
  {
   "cell_type": "markdown",
   "id": "cc7306ff-a61d-45fb-83f3-7570270684dc",
   "metadata": {},
   "source": [
    "# 1. Build your own convolutional neural network using pytorch"
   ]
  },
  {
   "cell_type": "code",
   "execution_count": 12,
   "id": "7d866c91-ac0e-487e-a7e6-45a1195fb65e",
   "metadata": {},
   "outputs": [],
   "source": [
    "import os\n",
    "import torch\n",
    "import torch.nn as nn\n",
    "import torch.optim as optim\n",
    "import torch.nn.functional as F\n",
    "from torchvision import transforms, datasets\n",
    "from torch.utils.data import DataLoader, Dataset\n",
    "from PIL import Image\n",
    "\n",
    "class DogHeartCNN(nn.Module):\n",
    "    def __init__(self, num_classes):\n",
    "        super(DogHeartCNN, self).__init__()\n",
    "        self.conv1 = nn.Conv2d(3, 32, 3, padding=1)    # 3x128x128 -> 32x128x128\n",
    "        self.conv2 = nn.Conv2d(32, 64, 3, padding=1)   # 64x64x64\n",
    "        self.conv3 = nn.Conv2d(64, 128, 3, padding=1)  # 128x32x32\n",
    "        self.pool = nn.MaxPool2d(2, 2)                 # Halves H & W\n",
    "        self.dropout = nn.Dropout(0.3)\n",
    "        self.fc1 = nn.Linear(128 * 16 * 16, 128)\n",
    "        self.fc2 = nn.Linear(128, num_classes)\n",
    "\n",
    "    def forward(self, x):\n",
    "        x = self.pool(F.relu(self.conv1(x)))   # 32x64x64\n",
    "        x = self.pool(F.relu(self.conv2(x)))   # 64x32x32\n",
    "        x = self.pool(F.relu(self.conv3(x)))   # 128x16x16\n",
    "        x = self.dropout(x)\n",
    "        x = x.view(x.size(0), -1)              # Flatten\n",
    "        x = F.relu(self.fc1(x))\n",
    "        x = self.fc2(x)\n",
    "        return x\n"
   ]
  },
  {
   "cell_type": "markdown",
   "id": "ecc226e8-0963-49f0-b1e7-69104604b3ca",
   "metadata": {},
   "source": [
    "### 2. Train your model using dog heart dataset (you may need to use  Google Colab (or Kaggle) with GPU to train your code) \n",
    "\n",
    "### (1) Use torchvision.datasets.ImageFolder for the training dataset"
   ]
  },
  {
   "cell_type": "code",
   "execution_count": 20,
   "id": "557e9deb-1b4c-408e-b910-173973d17bf8",
   "metadata": {},
   "outputs": [],
   "source": [
    "# Your dataset paths\n",
    "train_dir = \"C:/Users/adivi/Documents/Dogheart/Dog_heart/Dog_heart/Train\"\n",
    "valid_dir = \"C:/Users/adivi/Documents/Dogheart/Dog_heart/Dog_heart/Valid\"\n",
    "test_dir = \"C:/Users/adivi/Documents/Dogheart/Test/Test\"\n",
    "\n",
    "# Transforms\n",
    "transform_train = transforms.Compose([\n",
    "    transforms.Resize((128, 128)),\n",
    "    transforms.ToTensor()\n",
    "])\n",
    "\n",
    "transform_test = transforms.Compose([\n",
    "    transforms.Resize((128, 128)),\n",
    "    transforms.ToTensor()\n",
    "])\n",
    "\n",
    "train_data = datasets.ImageFolder(train_dir, transform=transform_train)\n",
    "valid_data = datasets.ImageFolder(valid_dir, transform=transform_test)\n",
    "train_loader = DataLoader(train_data, batch_size=32, shuffle=True)\n",
    "valid_loader = DataLoader(valid_data, batch_size=32)"
   ]
  },
  {
   "cell_type": "markdown",
   "id": "ab873e9a-3d55-4e57-9ea7-bafb6c5bf2de",
   "metadata": {},
   "source": [
    "### (2) Use custom dataloader for test dataset (return image tensor and file name)"
   ]
  },
  {
   "cell_type": "code",
   "execution_count": 19,
   "id": "50554750-10b9-4e4f-9ab1-a2c864b9eade",
   "metadata": {},
   "outputs": [],
   "source": [
    "class CustomTestDataset(Dataset):\n",
    "    def __init__(self, test_dir, transform):\n",
    "        self.paths = [os.path.join(test_dir, f) for f in os.listdir(test_dir) if f.endswith(('jpg','png'))]\n",
    "        self.transform = transform\n",
    "\n",
    "    def __getitem__(self, idx):\n",
    "        img = Image.open(self.paths[idx]).convert(\"RGB\")\n",
    "        return self.transform(img), os.path.basename(self.paths[idx])\n",
    "\n",
    "    def __len__(self):\n",
    "        return len(self.paths)\n",
    "\n",
    "test_loader = DataLoader(CustomTestDataset(test_dir, transform_test), batch_size=1)"
   ]
  },
  {
   "cell_type": "markdown",
   "id": "d2d5a6be-8f9f-4007-bb52-cc93a1247703",
   "metadata": {},
   "source": [
    "# 3. Evaluate your model using the developed software"
   ]
  },
  {
   "cell_type": "code",
   "execution_count": 17,
   "id": "edd7c6c7-8566-4ea1-8e16-f6e0d4e3c756",
   "metadata": {},
   "outputs": [
    {
     "name": "stdout",
     "output_type": "stream",
     "text": [
      "Epoch 1 | Loss: 45.313 | Train Accuracy: 42.36%\n",
      "Epoch 2 | Loss: 44.584 | Train Accuracy: 42.14%\n",
      "Epoch 3 | Loss: 43.710 | Train Accuracy: 43.07%\n",
      "Epoch 4 | Loss: 42.486 | Train Accuracy: 43.71%\n",
      "Epoch 5 | Loss: 42.323 | Train Accuracy: 44.79%\n",
      "Epoch 6 | Loss: 41.726 | Train Accuracy: 45.14%\n",
      "Epoch 7 | Loss: 41.507 | Train Accuracy: 43.36%\n",
      "Epoch 8 | Loss: 41.040 | Train Accuracy: 45.64%\n",
      "Epoch 9 | Loss: 41.441 | Train Accuracy: 46.21%\n",
      "Epoch 10 | Loss: 40.589 | Train Accuracy: 48.07%\n",
      "Epoch 11 | Loss: 39.850 | Train Accuracy: 47.21%\n",
      "Epoch 12 | Loss: 38.952 | Train Accuracy: 52.14%\n",
      "Epoch 13 | Loss: 37.588 | Train Accuracy: 54.00%\n",
      "Epoch 14 | Loss: 38.102 | Train Accuracy: 51.36%\n",
      "Epoch 15 | Loss: 35.116 | Train Accuracy: 57.57%\n",
      "Epoch 16 | Loss: 36.877 | Train Accuracy: 55.29%\n",
      "Epoch 17 | Loss: 34.957 | Train Accuracy: 58.64%\n",
      "Epoch 18 | Loss: 33.496 | Train Accuracy: 62.57%\n",
      "Epoch 19 | Loss: 33.966 | Train Accuracy: 61.64%\n",
      "Epoch 20 | Loss: 33.381 | Train Accuracy: 62.93%\n",
      "Epoch 21 | Loss: 33.206 | Train Accuracy: 61.71%\n",
      "Epoch 22 | Loss: 32.350 | Train Accuracy: 62.50%\n",
      "Epoch 23 | Loss: 31.773 | Train Accuracy: 64.86%\n",
      "Epoch 24 | Loss: 31.712 | Train Accuracy: 64.86%\n",
      "Epoch 25 | Loss: 31.206 | Train Accuracy: 64.29%\n",
      "Epoch 26 | Loss: 29.438 | Train Accuracy: 67.57%\n",
      "Epoch 27 | Loss: 30.701 | Train Accuracy: 65.36%\n",
      "Epoch 28 | Loss: 29.130 | Train Accuracy: 68.86%\n",
      "Epoch 29 | Loss: 29.138 | Train Accuracy: 68.36%\n",
      "Epoch 30 | Loss: 29.210 | Train Accuracy: 68.86%\n",
      "Epoch 31 | Loss: 27.745 | Train Accuracy: 68.64%\n",
      "Epoch 32 | Loss: 27.443 | Train Accuracy: 69.64%\n",
      "Epoch 33 | Loss: 26.870 | Train Accuracy: 71.29%\n",
      "Epoch 34 | Loss: 27.347 | Train Accuracy: 69.71%\n",
      "Epoch 35 | Loss: 26.789 | Train Accuracy: 70.29%\n",
      "Epoch 36 | Loss: 26.516 | Train Accuracy: 71.36%\n",
      "Epoch 37 | Loss: 25.982 | Train Accuracy: 71.29%\n",
      "Epoch 38 | Loss: 25.401 | Train Accuracy: 73.07%\n",
      "Epoch 39 | Loss: 24.435 | Train Accuracy: 73.29%\n",
      "Epoch 40 | Loss: 25.596 | Train Accuracy: 72.00%\n",
      "Epoch 41 | Loss: 24.147 | Train Accuracy: 73.21%\n",
      "Epoch 42 | Loss: 23.086 | Train Accuracy: 74.36%\n",
      "Epoch 43 | Loss: 24.026 | Train Accuracy: 74.29%\n",
      "Epoch 44 | Loss: 22.448 | Train Accuracy: 76.57%\n",
      "Epoch 45 | Loss: 22.867 | Train Accuracy: 74.86%\n",
      "Epoch 46 | Loss: 22.684 | Train Accuracy: 75.71%\n",
      "Epoch 47 | Loss: 21.206 | Train Accuracy: 78.43%\n",
      "Epoch 48 | Loss: 22.032 | Train Accuracy: 77.43%\n",
      "Epoch 49 | Loss: 20.612 | Train Accuracy: 78.21%\n",
      "Epoch 50 | Loss: 20.835 | Train Accuracy: 78.14%\n",
      "Epoch 51 | Loss: 20.211 | Train Accuracy: 80.29%\n",
      "Epoch 52 | Loss: 19.839 | Train Accuracy: 78.64%\n",
      "Epoch 53 | Loss: 19.196 | Train Accuracy: 79.86%\n",
      "Epoch 54 | Loss: 19.786 | Train Accuracy: 80.43%\n",
      "Epoch 55 | Loss: 18.098 | Train Accuracy: 81.79%\n",
      "Epoch 56 | Loss: 18.259 | Train Accuracy: 80.36%\n",
      "Epoch 57 | Loss: 18.264 | Train Accuracy: 81.07%\n",
      "Epoch 58 | Loss: 17.846 | Train Accuracy: 82.00%\n",
      "Epoch 59 | Loss: 17.378 | Train Accuracy: 82.14%\n",
      "Epoch 60 | Loss: 16.951 | Train Accuracy: 83.29%\n",
      "Epoch 61 | Loss: 16.704 | Train Accuracy: 83.00%\n",
      "Epoch 62 | Loss: 16.714 | Train Accuracy: 83.21%\n",
      "Epoch 63 | Loss: 16.164 | Train Accuracy: 84.07%\n",
      "Epoch 64 | Loss: 13.728 | Train Accuracy: 85.93%\n",
      "Epoch 65 | Loss: 14.113 | Train Accuracy: 85.43%\n",
      "Epoch 66 | Loss: 14.909 | Train Accuracy: 86.00%\n",
      "Epoch 67 | Loss: 13.737 | Train Accuracy: 87.00%\n",
      "Epoch 68 | Loss: 14.407 | Train Accuracy: 86.07%\n",
      "Epoch 69 | Loss: 13.732 | Train Accuracy: 85.71%\n",
      "Epoch 70 | Loss: 12.365 | Train Accuracy: 88.79%\n",
      "Epoch 71 | Loss: 11.162 | Train Accuracy: 88.79%\n",
      "Epoch 72 | Loss: 12.627 | Train Accuracy: 87.64%\n",
      "Epoch 73 | Loss: 11.019 | Train Accuracy: 89.57%\n",
      "Epoch 74 | Loss: 11.034 | Train Accuracy: 89.00%\n",
      "Epoch 75 | Loss: 12.621 | Train Accuracy: 87.79%\n",
      "Epoch 76 | Loss: 12.787 | Train Accuracy: 87.50%\n",
      "Epoch 77 | Loss: 9.454 | Train Accuracy: 91.43%\n",
      "Epoch 78 | Loss: 8.647 | Train Accuracy: 91.57%\n",
      "Epoch 79 | Loss: 10.800 | Train Accuracy: 89.57%\n",
      "Epoch 80 | Loss: 9.823 | Train Accuracy: 91.36%\n",
      "Epoch 81 | Loss: 9.404 | Train Accuracy: 91.21%\n",
      "Epoch 82 | Loss: 10.352 | Train Accuracy: 90.50%\n",
      "Epoch 83 | Loss: 11.611 | Train Accuracy: 89.50%\n",
      "Epoch 84 | Loss: 9.198 | Train Accuracy: 91.71%\n",
      "Epoch 85 | Loss: 7.800 | Train Accuracy: 93.00%\n",
      "Epoch 86 | Loss: 7.802 | Train Accuracy: 92.93%\n",
      "Epoch 87 | Loss: 7.821 | Train Accuracy: 92.71%\n",
      "Epoch 88 | Loss: 6.741 | Train Accuracy: 95.00%\n",
      "Epoch 89 | Loss: 7.988 | Train Accuracy: 92.57%\n",
      "Epoch 90 | Loss: 7.312 | Train Accuracy: 93.29%\n",
      "Epoch 91 | Loss: 6.611 | Train Accuracy: 94.07%\n",
      "Epoch 92 | Loss: 6.286 | Train Accuracy: 94.00%\n",
      "Epoch 93 | Loss: 7.327 | Train Accuracy: 93.71%\n",
      "Epoch 94 | Loss: 7.148 | Train Accuracy: 93.00%\n",
      "Epoch 95 | Loss: 5.139 | Train Accuracy: 95.71%\n",
      "Epoch 96 | Loss: 6.374 | Train Accuracy: 94.29%\n",
      "Epoch 97 | Loss: 7.354 | Train Accuracy: 93.50%\n",
      "Epoch 98 | Loss: 6.236 | Train Accuracy: 94.36%\n",
      "Epoch 99 | Loss: 5.575 | Train Accuracy: 95.71%\n",
      "Epoch 100 | Loss: 7.172 | Train Accuracy: 94.21%\n"
     ]
    }
   ],
   "source": [
    "# Training setup\n",
    "device = torch.device(\"cuda\" if torch.cuda.is_available() else \"cpu\")\n",
    "model = DogHeartCNN(num_classes=len(train_data.classes)).to(device)\n",
    "criterion = nn.CrossEntropyLoss()\n",
    "optimizer = optim.SGD(model.parameters(), lr=0.01, momentum=0.9)\n",
    "\n",
    "# Train loop\n",
    "for epoch in range(100):\n",
    "    model.train()\n",
    "    running_loss, correct, total = 0, 0, 0\n",
    "    for inputs, labels in train_loader:\n",
    "        inputs, labels = inputs.to(device), labels.to(device)\n",
    "        optimizer.zero_grad()\n",
    "        outputs = model(inputs)\n",
    "        loss = criterion(outputs, labels)\n",
    "        loss.backward()\n",
    "        optimizer.step()\n",
    "        running_loss += loss.item()\n",
    "        _, preds = torch.max(outputs, 1)\n",
    "        total += labels.size(0)\n",
    "        correct += (preds == labels).sum().item()\n",
    "    acc = 100 * correct / total\n",
    "    print(f\"Epoch {epoch+1} | Loss: {running_loss:.3f} | Train Accuracy: {acc:.2f}%\")\n",
    "\n",
    "# Save model\n",
    "torch.save(model.state_dict(), \"dog_heart_cnn_improved.pt\")"
   ]
  },
  {
   "cell_type": "markdown",
   "id": "8ee676fb-dfca-45f7-8334-022d8cd7868d",
   "metadata": {},
   "source": [
    "### Save predictions to CSV "
   ]
  },
  {
   "cell_type": "code",
   "execution_count": 23,
   "id": "81fb030c-faa7-4cbe-80d7-c32914a5a4ac",
   "metadata": {},
   "outputs": [
    {
     "name": "stdout",
     "output_type": "stream",
     "text": [
      "Predictions saved to dog_heart_test_predictions.csv\n",
      "✅ Model weights saved to dog_heart_cnn.pt\n"
     ]
    }
   ],
   "source": [
    "# Save predictions to a CSV file\n",
    "with open(\"dog_heart_test_predictions.csv\", \"w\") as f:\n",
    "    model.eval()\n",
    "    with torch.no_grad():\n",
    "        for inputs, filenames in test_loader:\n",
    "            inputs = inputs.to(device)\n",
    "            outputs = model(inputs)\n",
    "            _, predicted = torch.max(outputs, 1)\n",
    "            predicted_label = predicted.item()\n",
    "            f.write(f\"{filenames[0]},{predicted_label}\\n\")\n",
    "\n",
    "print(\"Predictions saved to dog_heart_test_predictions.csv\")\n",
    "# Save model weights to .pt file\n",
    "torch.save(model.state_dict(), \"dog_heart_cnn.pt\")\n",
    "print(\"✅ Model weights saved to dog_heart_cnn.pt\")\n"
   ]
  },
  {
   "attachments": {
    "51768ac4-5127-4a8f-8840-b6b01f7e5470.png": {
     "image/png": "[encoded data removed]"
    }
   },
   "cell_type": "markdown",
   "id": "ed3da518-3e8b-441f-87a2-6f82e6ec690d",
   "metadata": {},
   "source": [
    "![Screenshot (248).png](attachment:51768ac4-5127-4a8f-8840-b6b01f7e5470.png)"
   ]
  },
  {
   "cell_type": "markdown",
   "id": "4959dd28-018a-433e-a096-f6ed3c6c8426",
   "metadata": {},
   "source": [
    "# 4. Compare results with [RVT paper](https://www.nature.com/articles/s41598-023-50063-x). Requirement: performance is better than VGG16: 75%"
   ]
  },
  {
   "cell_type": "markdown",
   "id": "45341b07-17e5-493b-909b-67574c08fabe",
   "metadata": {},
   "source": [
    "According to the RVT paper, the VGG16 model achieved a test accuracy of 75% on their classification task involving canine radiographs.\n",
    "\n",
    "In this project, the custom CNN model achieved:\n",
    "\n",
    "* **Training Accuracy:** 95.71%\n",
    "\n",
    "* **Test Accuracy:** 8 66.25%\n",
    "\n",
    "Although the test accuracy did not surpass the VGG16 baseline, the model demonstrated strong training performance and consistent learning. The gap between training and test accuracy suggests potential overfitting, likely due to:\n",
    "\n",
    "* Small dataset size\n",
    "\n",
    "* Lack of input normalization\n",
    "\n",
    "* Class imbalance\n",
    "\n",
    "Despite these limitations, the custom CNN—being lightweight and built from scratch—offers a strong starting point. With improvements like data augmentation, batch normalization, and transfer learning, this model could potentially exceed VGG16 performance in future iterations."
   ]
  },
  {
   "cell_type": "markdown",
   "id": "1ac788fb-9008-42b7-8b1e-75d1b16fd150",
   "metadata": {},
   "source": [
    "# 5. Write a four-page paper report using the shared LaTex template. Upload your paper to ResearchGate or Arxiv, and put your paper link and GitHub weight link here."
   ]
  },
  {
   "cell_type": "code",
   "execution_count": null,
   "id": "44f2c1fe-9ae2-4528-beca-c6e70be68f01",
   "metadata": {},
   "outputs": [],
   "source": [
    "https://www.researchgate.net/publication/390177847_A_Lightweight_Convolutional_Neural_Network_for_Dog_Heart_Image_Classification"
   ]
  }
 ],
 "metadata": {
  "kernelspec": {
   "display_name": "Python 3 (ipykernel)",
   "language": "python",
   "name": "python3"
  },
  "language_info": {
   "codemirror_mode": {
    "name": "ipython",
    "version": 3
   },
   "file_extension": ".py",
   "mimetype": "text/x-python",
   "name": "python",
   "nbconvert_exporter": "python",
   "pygments_lexer": "ipython3",
   "version": "3.11.7"
  }
 },
 "nbformat": 4,
 "nbformat_minor": 5
}
